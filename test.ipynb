{
 "cells": [
  {
   "cell_type": "code",
   "execution_count": 1,
   "id": "3496e376-08a7-47db-8e38-9e623c3a59a6",
   "metadata": {
    "tags": []
   },
   "outputs": [
    {
     "name": "stdout",
     "output_type": "stream",
     "text": [
      " \"This is printing in R. Next it will load CHNOSZ with the OBIGT database.\"\n",
      "reset: creating \"thermo\" object\n",
      "\n",
      "OBIGT: loading default database with 1904 aqueous, 3445 total species\n",
      "\n",
      " \"Now it will attempt info('pyri') to get partial database matches.\"\n",
      "info.approx: 'pyri' is ambiguous; has approximate matches to 41 species:\n",
      "\n",
      " [1] \"a-aminobutyric acid\"              \"myristate\"                       \n",
      " [3] \"β-hydroxymyristate\"               \"pyruvic acid\"                    \n",
      " [5] \"pyruvate\"                         \"deoxyribose\"                     \n",
      " [7] \"chalcopyrite\"                     \"chalcopyrite\"                    \n",
      " [9] \"chalcopyrite\"                     \"chlorargyrite\"                   \n",
      "[11] \"cuprite\"                          \"pyrite\"                          \n",
      "[13] \"pyrrhotite\"                       \"pyrrhotite\"                      \n",
      "[15] \"pyrrhotite\"                       \"cooperite\"                       \n",
      "[17] \"arsenopyrite\"                     \"pyrolusite\"                      \n",
      "[19] \"[peri.corr]\"                      \"pyrene\"                          \n",
      "[21] \"1-methylpyrene\"                   \"2-methylpyrene\"                  \n",
      "[23] \"deoxyribose\"                      \"pyridine\"                        \n",
      "[25] \"piperidine\"                       \"pyrobitumen\"                     \n",
      "[27] \"Ca-Al-pyroxene\"                   \"periclase\"                       \n",
      "[29] \"pyrope\"                           \"pyrophyllite\"                    \n",
      "[31] \"pyridine\"                         \"3-methylpyridine\"                \n",
      "[33] \"pyridine\"                         \"piperidine\"                      \n",
      "[35] \"3-methylpyridine\"                 \"[peri.corr]\"                     \n",
      "[37] \"pyrene\"                           \"1-methylpyrene\"                  \n",
      "[39] \"2-methylpyrene\"                   \"2,6,10,14-tetramethylpentadecane\"\n",
      "[41] \"2,6,10,14-tetramethylpentadecane\"\n",
      "\n",
      " \"Now it will attempt info('CH4').\"\n",
      "info.character: found CH4(aq); also available in gas, liq\n",
      "\n"
     ]
    }
   ],
   "source": [
    "from wormutils_r import test_capture\n",
    "test_capture()"
   ]
  },
  {
   "cell_type": "code",
   "execution_count": null,
   "id": "ecbb59ac-9d0b-4abe-811b-0d2910ca0b6f",
   "metadata": {
    "tags": []
   },
   "outputs": [],
   "source": [
    "import copy\n",
    "import re\n",
    "import rpy2.rinterface_lib.callbacks\n",
    "import logging\n",
    "rpy2.rinterface_lib.callbacks.logger.setLevel(logging.ERROR)   # will display errors, but not warnings\n",
    "\n",
    "class R_output(object):\n",
    "    \n",
    "    def capture_r_output(self, debug=False):\n",
    "        \"\"\"\n",
    "        Capture and create a list of R console messages\n",
    "        \"\"\"\n",
    "\n",
    "        # Record output #\n",
    "        self.stdout = []\n",
    "        self.stderr = []\n",
    "\n",
    "        # Dummy functions #\n",
    "        def add_to_stdout(line): self.stdout.append(line)\n",
    "        def add_to_stderr(line): self.stderr.append(line)\n",
    "\n",
    "        # Keep the old functions #\n",
    "        self.stdout_orig = copy.deepcopy(rpy2.rinterface_lib.callbacks.consolewrite_print)\n",
    "        self.stderr_orig = copy.deepcopy(rpy2.rinterface_lib.callbacks.consolewrite_warnerror)\n",
    "        \n",
    "        # If debug==False, uses python to print R lines after executing an R block \n",
    "        # If debug==True, will ugly print from R directly. Allows printing from R to troubleshoot errors.\n",
    "        if not debug:\n",
    "\n",
    "            # Set the call backs #\n",
    "            rpy2.rinterface_lib.callbacks.consolewrite_print     = add_to_stdout\n",
    "            rpy2.rinterface_lib.callbacks.consolewrite_warnerror = add_to_stderr\n",
    "\n",
    "    \n",
    "    def print_captured_r_output(self):\n",
    "        \"\"\"\n",
    "        Cleans up R output for printing (e.g., removes \"[1]\" and end-of-line designators)\n",
    "        \"\"\"\n",
    "        printable_lines_stdout = [line for line in self.stdout if line not in ['[1]', '\\n']]\n",
    "        printable_lines_stderr = [line for line in self.stderr if line not in ['[1]', '\\n']]\n",
    "        printable_lines = printable_lines_stdout + printable_lines_stderr\n",
    "        \n",
    "        printable_lines = [line for line in printable_lines if re.search(\"^\\s*\\[[0-9]+\\]$\", line) is None]\n",
    "        printable_lines = [re.sub(r' \\\\n\\\"', \"\", line) for line in printable_lines]\n",
    "        [print(line) for line in printable_lines]\n",
    "        #[print(line[2:-1]) for line in printable_lines]\n",
    "        \n",
    "        rpy2.rinterface_lib.callbacks.consolewrite_print     = self.stdout_orig\n",
    "        rpy2.rinterface_lib.callbacks.consolewrite_warnerror = self.stderr_orig\n"
   ]
  },
  {
   "cell_type": "code",
   "execution_count": null,
   "id": "5ae938d0-4ce9-42f3-b6a2-fbce8585935b",
   "metadata": {},
   "outputs": [],
   "source": []
  }
 ],
 "metadata": {
  "kernelspec": {
   "display_name": "Python 3 (ipykernel)",
   "language": "python",
   "name": "python3"
  },
  "language_info": {
   "codemirror_mode": {
    "name": "ipython",
    "version": 3
   },
   "file_extension": ".py",
   "mimetype": "text/x-python",
   "name": "python",
   "nbconvert_exporter": "python",
   "pygments_lexer": "ipython3",
   "version": "3.8.10"
  }
 },
 "nbformat": 4,
 "nbformat_minor": 5
}
